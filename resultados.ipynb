{
 "cells": [
  {
   "cell_type": "code",
   "execution_count": 1,
   "metadata": {},
   "outputs": [],
   "source": [
    "import numpy as np\n",
    "import matplotlib.pyplot as plt\n",
    "import os\n",
    "from sklearn.metrics import precision_score,recall_score\n",
    "import pandas as pd\n",
    "from modelo import load,evaluate,Model,ORGAOS"
   ]
  },
  {
   "cell_type": "code",
   "execution_count": 2,
   "metadata": {},
   "outputs": [
    {
     "data": {
      "text/plain": [
       "1588"
      ]
     },
     "execution_count": 2,
     "metadata": {},
     "output_type": "execute_result"
    }
   ],
   "source": [
    "folder = 'ARRAY_FORMAT'\n",
    "data_files = [os.path.join(folder,name) for name in os.listdir(folder)]\n",
    "len(data_files)"
   ]
  },
  {
   "cell_type": "code",
   "execution_count": 6,
   "metadata": {},
   "outputs": [
    {
     "name": "stdout",
     "output_type": "stream",
     "text": [
      "Files: 1587\r"
     ]
    }
   ],
   "source": [
    "model = Model('MODEL')\n",
    "precision = {org:[] for org in ORGAOS}\n",
    "recall = {org:[] for org in ORGAOS}\n",
    "for i,file in enumerate(data_files):\n",
    "    img,struc = load(file)\n",
    "    prediction = model.predict(img)\n",
    "    res = evaluate(struc,prediction)\n",
    "    for org in ORGAOS:\n",
    "        precision[org].append(res[org][0])\n",
    "        recall[org].append(res[org][1])\n",
    "    print('Files:',i,end = '\\r')\n",
    "\n",
    "m_precision = {org:np.array(precision[org]).mean() for org in ORGAOS}\n",
    "m_recall = {org:np.array(recall[org]).mean() for org in ORGAOS}"
   ]
  },
  {
   "cell_type": "code",
   "execution_count": 7,
   "metadata": {},
   "outputs": [
    {
     "data": {
      "text/html": [
       "<div>\n",
       "<style scoped>\n",
       "    .dataframe tbody tr th:only-of-type {\n",
       "        vertical-align: middle;\n",
       "    }\n",
       "\n",
       "    .dataframe tbody tr th {\n",
       "        vertical-align: top;\n",
       "    }\n",
       "\n",
       "    .dataframe thead th {\n",
       "        text-align: right;\n",
       "    }\n",
       "</style>\n",
       "<table border=\"1\" class=\"dataframe\">\n",
       "  <thead>\n",
       "    <tr style=\"text-align: right;\">\n",
       "      <th></th>\n",
       "      <th>Precision</th>\n",
       "      <th>Recall</th>\n",
       "    </tr>\n",
       "  </thead>\n",
       "  <tbody>\n",
       "    <tr>\n",
       "      <th>artery</th>\n",
       "      <td>0.302865</td>\n",
       "      <td>0.084816</td>\n",
       "    </tr>\n",
       "    <tr>\n",
       "      <th>liver</th>\n",
       "      <td>0.456179</td>\n",
       "      <td>0.235638</td>\n",
       "    </tr>\n",
       "    <tr>\n",
       "      <th>stomach</th>\n",
       "      <td>0.165460</td>\n",
       "      <td>0.303250</td>\n",
       "    </tr>\n",
       "    <tr>\n",
       "      <th>vein</th>\n",
       "      <td>0.234572</td>\n",
       "      <td>0.306315</td>\n",
       "    </tr>\n",
       "  </tbody>\n",
       "</table>\n",
       "</div>"
      ],
      "text/plain": [
       "         Precision    Recall\n",
       "artery    0.302865  0.084816\n",
       "liver     0.456179  0.235638\n",
       "stomach   0.165460  0.303250\n",
       "vein      0.234572  0.306315"
      ]
     },
     "execution_count": 7,
     "metadata": {},
     "output_type": "execute_result"
    }
   ],
   "source": [
    "table = pd.DataFrame({'Precision':m_precision.values(),'Recall':m_recall.values()},index = ORGAOS)\n",
    "table"
   ]
  },
  {
   "cell_type": "code",
   "execution_count": 8,
   "metadata": {},
   "outputs": [
    {
     "data": {
      "image/png": "[encoded data removed]",
      "text/plain": [
       "<Figure size 640x480 with 1 Axes>"
      ]
     },
     "metadata": {},
     "output_type": "display_data"
    }
   ],
   "source": [
    "table.plot(kind = 'bar',title = 'Results')\n",
    "plt.show()"
   ]
  }
 ],
 "metadata": {
  "kernelspec": {
   "display_name": "Python 3",
   "language": "python",
   "name": "python3"
  },
  "language_info": {
   "codemirror_mode": {
    "name": "ipython",
    "version": 3
   },
   "file_extension": ".py",
   "mimetype": "text/x-python",
   "name": "python",
   "nbconvert_exporter": "python",
   "pygments_lexer": "ipython3",
   "version": "3.11.9"
  }
 },
 "nbformat": 4,
 "nbformat_minor": 2
}
